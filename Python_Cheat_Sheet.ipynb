{
  "nbformat": 4,
  "nbformat_minor": 0,
  "metadata": {
    "colab": {
      "provenance": []
    },
    "kernelspec": {
      "name": "python3",
      "display_name": "Python 3"
    },
    "language_info": {
      "name": "python"
    }
  },
  "cells": [
    {
      "cell_type": "markdown",
      "source": [],
      "metadata": {
        "id": "Nw3Y-m9Ou1Qa"
      }
    },
    {
      "cell_type": "markdown",
      "source": [
        "## 1- Variables and Data Types"
      ],
      "metadata": {
        "id": "325qSey1u33p"
      }
    },
    {
      "cell_type": "code",
      "source": [
        "# this called comment : use \"#\" then write explain or any text (this not run or included as code)\n",
        "\n",
        "# Variables and Data Types\n",
        "name = \"Alice\"          # String\n",
        "age = 30                # Integer\n",
        "height = 5.8            # Float\n",
        "is_student = True       # Boolean (take 2 values only True and False)\n",
        "\n",
        "print(\"this to print the name :\" , name)\n",
        "print(f\"another way to print age : {age} and the height {height}\")\n",
        "print(is_student) # to print variable only without text"
      ],
      "metadata": {
        "colab": {
          "base_uri": "https://localhost:8080/"
        },
        "id": "LlJ11Sxpu6xZ",
        "outputId": "b4202ae4-51dd-4be6-9310-af53bbf68a91"
      },
      "execution_count": 11,
      "outputs": [
        {
          "output_type": "stream",
          "name": "stdout",
          "text": [
            "this to print the name : Alice\n",
            "another way to print age : 30 and the height 5.8\n",
            "True\n"
          ]
        }
      ]
    },
    {
      "cell_type": "markdown",
      "source": [
        "## 2- Basic Operations"
      ],
      "metadata": {
        "id": "Rw6tGCSQu-yA"
      }
    },
    {
      "cell_type": "code",
      "source": [
        "# Basic Operations\n",
        "result_add = 5 + 3          # Addition\n",
        "result_sub = 7 - 2          # Subtraction\n",
        "result_mul = 4 * 6          # Multiplication\n",
        "result_div = 10 / 2         # Division\n",
        "result_int_div = 11 // 3        # Integer Division\n",
        "result_rem = 11 % 3      # Modulus (Remainder)\n",
        "\n",
        "print(result_add , \"\\t\", result_sub) # to make tab between values use this symbol --> \\t\n",
        "print(result_mul , \"\\n\" , result_div) #to make new line use this symbol --> \\n\n",
        "print(result_int_div , result_rem)  # can use \",\" between variable"
      ],
      "metadata": {
        "colab": {
          "base_uri": "https://localhost:8080/"
        },
        "id": "mFBjlBV2u_sh",
        "outputId": "decb61b1-0d56-41dd-8143-c141e8a2f0d9"
      },
      "execution_count": 13,
      "outputs": [
        {
          "output_type": "stream",
          "name": "stdout",
          "text": [
            "8 \t 5\n",
            "24 \n",
            " 5.0\n",
            "3 2\n"
          ]
        }
      ]
    },
    {
      "cell_type": "markdown",
      "source": [
        "## 3- Strings"
      ],
      "metadata": {
        "id": "h5Xln1GJu-9q"
      }
    },
    {
      "cell_type": "code",
      "source": [
        "# String Operations \"TEXT\"\n",
        "greeting = \"Hello, \" + name     # Concatenation\n",
        "length = len(name)              # Length of a string\n",
        "uppercase_name = name.upper()   # Uppercase\n",
        "lowercase_name = name.lower()   # Lowercase\n",
        "\n",
        "print(greeting)\n",
        "print(length)\n",
        "print(uppercase_name)\n",
        "print(lowercase_name)"
      ],
      "metadata": {
        "colab": {
          "base_uri": "https://localhost:8080/"
        },
        "id": "9rh3HEp7xQWY",
        "outputId": "0f74cf49-7a8c-4e96-bd1b-2b661468087c"
      },
      "execution_count": 15,
      "outputs": [
        {
          "output_type": "stream",
          "name": "stdout",
          "text": [
            "Hello, Alice\n",
            "5\n",
            "ALICE\n",
            "alice\n"
          ]
        }
      ]
    },
    {
      "cell_type": "markdown",
      "source": [
        "## 4- Lists\n",
        "*  list is a commonly used data structure that allows you to store and manage a collection of items. Lists are ordered, mutable, and can contain elements of different data types. You can access and manipulate the elements in a list using indexing\n",
        "\n",
        "* fruits = [\"apple\", \"banana\", \"cherry\"]\n",
        "\n",
        "* Characteristics of Lists:\n",
        "  * Ordered: Lists maintain the order of elements. The order in which you add elements is the order in which they are stored in the list.\n",
        "\n",
        "  * Mutable: Lists are mutable, meaning you can change, add, or remove elements from them after they are created.\n",
        "\n",
        "  * Heterogeneous: Lists can contain elements of different data types, including strings, numbers, other lists, and more.\n",
        "\n",
        "\n",
        "\n",
        "\n"
      ],
      "metadata": {
        "id": "cEm6JZGxu_AM"
      }
    },
    {
      "cell_type": "code",
      "source": [
        "# Lists\n",
        "fruits = [\"apple\", \"banana\", \"cherry\"]\n",
        "print(fruits)\n",
        "\n",
        "fruits.append(\"orange\")        # Add an item to the end\n",
        "print(\"after append\", fruits)"
      ],
      "metadata": {
        "colab": {
          "base_uri": "https://localhost:8080/"
        },
        "id": "DJDgvOJ-zclC",
        "outputId": "6939bd02-e533-49e4-c1e8-560f29e78d26"
      },
      "execution_count": 20,
      "outputs": [
        {
          "output_type": "stream",
          "name": "stdout",
          "text": [
            "['apple', 'banana', 'cherry']\n",
            "after append ['apple', 'banana', 'cherry', 'orange']\n"
          ]
        }
      ]
    },
    {
      "cell_type": "markdown",
      "source": [
        "* Indexing is the process of accessing individual elements within a list by their position or index. In Python, lists are zero-based, which means the first element is at index 0, the second element is at index 1, and so on. You can use square brackets [] to access elements by their index and can also use negative indexing to access elements from the end of the list.\n",
        "  * fruits[0] will give you \"apple.\"\n",
        "fruits[1] will give you \"banana.\"\n",
        "\n",
        "  * fruits[-1] gives you the last element, \"cherry.\"\n",
        "\n",
        "   fruits[-2] gives you the second-to-last element, \"banana.\"\n",
        "\n",
        "\n",
        "lst = ['apple', 'banana', 'cherry']\n",
        "\n",
        "         0          1        2         \n",
        "        -3         -2       -1\n",
        "\n",
        "\n",
        "can access apple lst[0] or lst[-3] and so on"
      ],
      "metadata": {
        "id": "8GjLcpoUzT1G"
      }
    },
    {
      "cell_type": "code",
      "source": [
        "fruits[1] = \"kiwi\"              # Modify an item\n",
        "print(fruits)\n",
        "\n",
        "print(fruits[0])\n",
        "print(fruits[-1])\n",
        "\n",
        "fruits.remove(\"cherry\")        # Remove an item\n",
        "num_fruits = len(fruits)       # Length of a list : to get length of list\n",
        "\n",
        "\n",
        "print(fruits)\n",
        "print(num_fruits)"
      ],
      "metadata": {
        "colab": {
          "base_uri": "https://localhost:8080/"
        },
        "id": "GNwQK2xqzdIK",
        "outputId": "31765d60-ddeb-4b58-c5fa-7c597f450d8a"
      },
      "execution_count": 21,
      "outputs": [
        {
          "output_type": "stream",
          "name": "stdout",
          "text": [
            "['apple', 'kiwi', 'cherry', 'orange']\n",
            "apple\n",
            "orange\n",
            "['apple', 'kiwi', 'orange']\n",
            "3\n"
          ]
        }
      ]
    },
    {
      "cell_type": "markdown",
      "source": [
        "* Slicing can also access a range of elements within a list using slicing. Slicing is done by specifying a start index, an end index, and an optional step\n",
        "\n",
        "  * fruits = [\"apple\", \"banana\", \"cherry\", \"date\", \"fig\"]\n",
        "\n",
        "  * Get elements from index 1 (inclusive) to 4 (exclusive)\n",
        "  selected_fruits = fruits[1:4]\n",
        " selected_fruits will be [\"banana\", \"cherry\", \"date\"]"
      ],
      "metadata": {
        "id": "7igVi7N5zT4j"
      }
    },
    {
      "cell_type": "code",
      "source": [
        "fruits = [\"apple\", \"banana\", \"cherry\", \"date\", \"fig\"]\n",
        "\n",
        "# Get elements from index 1 (inclusive) to 4 (exclusive)\n",
        "selected_fruits = fruits[1:4]\n",
        "\n",
        "# Get every second element\n",
        "every_second_fruit = fruits[::2]\n",
        "\n",
        "\n",
        "print(selected_fruits)\n",
        "print(every_second_fruit)"
      ],
      "metadata": {
        "colab": {
          "base_uri": "https://localhost:8080/"
        },
        "id": "YmzzmL1XzSr-",
        "outputId": "a4484835-4ace-4554-8ab7-d3f2f1632ccd"
      },
      "execution_count": 23,
      "outputs": [
        {
          "output_type": "stream",
          "name": "stdout",
          "text": [
            "['banana', 'cherry', 'date']\n",
            "['apple', 'cherry', 'fig']\n"
          ]
        }
      ]
    },
    {
      "cell_type": "markdown",
      "source": [
        "## 5- Tuples\n",
        "* A tuple is an ordered, immutable collection of elements. Tuples are defined using parentheses () and can also contain items of various data types. Once you create a tuple, you cannot change its elements.\n"
      ],
      "metadata": {
        "id": "hAF9aIQpu_Cn"
      }
    },
    {
      "cell_type": "code",
      "source": [
        "point = (3, 5)\n",
        "x, y = point  # Unpacking a tuple\n",
        "print(x)\n",
        "print(y)"
      ],
      "metadata": {
        "colab": {
          "base_uri": "https://localhost:8080/"
        },
        "id": "38_SRi9xzS2T",
        "outputId": "f17da8b3-60d8-4afe-e06e-0da032d8873a"
      },
      "execution_count": 26,
      "outputs": [
        {
          "output_type": "stream",
          "name": "stdout",
          "text": [
            "3\n",
            "5\n"
          ]
        }
      ]
    },
    {
      "cell_type": "markdown",
      "source": [
        "## 6- Dictionaries\n",
        "A dictionary is an unordered collection of key-value pairs. Dictionaries are defined using curly braces {} and consist of keys and their associated values. Keys must be unique, and they are used to access the corresponding values."
      ],
      "metadata": {
        "id": "4tsDpjr8u_FI"
      }
    },
    {
      "cell_type": "code",
      "source": [
        "person = {\"name\": \"Alice\", \"age\": 30, \"is_student\": True}\n",
        "print(person)\n",
        "\n",
        "name = person[\"name\"]  # Access a value by key\n",
        "print(name)\n",
        "\n",
        "\n",
        "person[\"height\"] = 5.8  # Add a new key-value pair\n",
        "print(person)\n"
      ],
      "metadata": {
        "colab": {
          "base_uri": "https://localhost:8080/"
        },
        "id": "f7MD_nRzu9OX",
        "outputId": "db3f39d7-9b8c-43eb-fc49-60d6faf576ae"
      },
      "execution_count": 24,
      "outputs": [
        {
          "output_type": "stream",
          "name": "stdout",
          "text": [
            "{'name': 'Alice', 'age': 30, 'is_student': True}\n",
            "Alice\n",
            "{'name': 'Alice', 'age': 30, 'is_student': True, 'height': 5.8}\n"
          ]
        }
      ]
    },
    {
      "cell_type": "markdown",
      "source": [
        "## 7- Sets\n",
        "\n",
        "A set is an unordered collection of unique elements. Sets are defined using curly braces {} or the set() constructor. They do not allow duplicate values and are commonly used for performing mathematical set operations."
      ],
      "metadata": {
        "id": "iLkbSO4du_He"
      }
    },
    {
      "cell_type": "code",
      "source": [
        "fruits = {\"apple\", \"banana\", \"cherry\"}\n",
        "print(fruits )\n",
        "\n",
        "fruits.add(\"date\")  # Add an element to the set\n",
        "print(fruits)\n",
        "\n",
        "fruits.remove(\"banana\")  # Remove an element\n",
        "print(fruits)  # Output: {'cherry', 'date', 'apple'}\n",
        "\n",
        "\n",
        "fruits.add(\"apple\")  # will not add apple again\n",
        "print(fruits)"
      ],
      "metadata": {
        "colab": {
          "base_uri": "https://localhost:8080/"
        },
        "id": "HNnILPCx1-5m",
        "outputId": "c606ec2a-c949-4d25-9770-326995e509f0"
      },
      "execution_count": 28,
      "outputs": [
        {
          "output_type": "stream",
          "name": "stdout",
          "text": [
            "{'cherry', 'apple', 'banana'}\n",
            "{'cherry', 'apple', 'banana', 'date'}\n",
            "{'cherry', 'apple', 'date'}\n",
            "{'cherry', 'apple', 'date'}\n"
          ]
        }
      ]
    },
    {
      "cell_type": "markdown",
      "source": [
        "###  Differences between lists, tuples, dictionaries, and sets\n",
        "\n",
        "\n",
        "\n",
        "#### 1- Lists:\n",
        "\n",
        "Ordered: Lists maintain the order of elements, and you can access elements by index.\n",
        "Mutable: You can add, remove, or modify elements in a list.\n",
        "Syntax: Defined using square brackets [].\n",
        "\n",
        "\n",
        "#### 2- Tuples:\n",
        "\n",
        "Ordered: Like lists, tuples also maintain the order of elements, and you can access elements by index.\n",
        "Immutable: Once created, tuples cannot be modified, which means you can't add, remove, or change elements.\n",
        "Syntax: Defined using parentheses ().\n",
        "\n",
        "\n",
        "#### 3- Dictionaries:\n",
        "\n",
        "Unordered: Dictionaries do not have a specific order for their elements. Instead, they use keys to access values.\n",
        "Key-Value Pairs: Dictionaries consist of key-value pairs, where each key is unique and associated with a value.\n",
        "Syntax: Defined using curly braces {} with key-value pairs separated by colons (key: value).\n",
        "\n",
        "\n",
        "#### 4- Sets:\n",
        "\n",
        "Unordered: Sets are unordered collections of unique elements. The order of elements is not guaranteed.\n",
        "Unique Values: Sets do not allow duplicate elements. If you add a duplicate, it will be ignored.\n",
        "Syntax: Defined using curly braces {} or the set() constructor."
      ],
      "metadata": {
        "id": "Fsna5HrQu_K4"
      }
    },
    {
      "cell_type": "markdown",
      "source": [
        "## 8- Control Structures : Conditional Statements (if, elif, else)\n",
        "\n",
        "* allow you to execute different code blocks based on whether a certain condition is true or false\n",
        "\n",
        "  * if: It tests a condition and, if true, executes the code inside the block.\n",
        "  * elif (optional): You can have multiple elif clauses to check additional conditions.\n",
        "  * else (optional): If none of the conditions in the if and elif blocks are true, the code in the else block is executed."
      ],
      "metadata": {
        "id": "C57AT2CD23zr"
      }
    },
    {
      "cell_type": "code",
      "source": [
        "# Control Structures\n",
        "age = 20 # change value of age will change the printed text\n",
        "\n",
        "if age >= 18:\n",
        "    print(\"You are an adult\")\n",
        "elif age >= 13:\n",
        "    print(\"You are a teenager\")\n",
        "else:\n",
        "    print(\"You are a child\")\n",
        "\n",
        "\n"
      ],
      "metadata": {
        "colab": {
          "base_uri": "https://localhost:8080/"
        },
        "id": "OZ40ICK_2RXK",
        "outputId": "5b5a2355-d3fc-4829-b6ae-b9f523862a65"
      },
      "execution_count": 30,
      "outputs": [
        {
          "output_type": "stream",
          "name": "stdout",
          "text": [
            "You are an adult\n"
          ]
        }
      ]
    },
    {
      "cell_type": "code",
      "source": [
        "grade = 85\n",
        "\n",
        "if grade >= 90:\n",
        "    print(\"A\")\n",
        "elif grade >= 80:\n",
        "    print(\"B\")\n",
        "elif grade >= 70:\n",
        "    print(\"C\")\n",
        "else:\n",
        "    print(\"D\")\n"
      ],
      "metadata": {
        "colab": {
          "base_uri": "https://localhost:8080/"
        },
        "id": "rnerisUu3rhT",
        "outputId": "71ad13e5-ccd1-4e9f-c47e-86dc1e964d33"
      },
      "execution_count": 1,
      "outputs": [
        {
          "output_type": "stream",
          "name": "stdout",
          "text": [
            "B\n"
          ]
        }
      ]
    },
    {
      "cell_type": "markdown",
      "source": [
        "- Nested if Statements\n",
        "\n",
        "  - can also nest if statements inside other if or elif blocks to create more intricate conditional logic"
      ],
      "metadata": {
        "id": "tHgrHNjtQJPY"
      }
    },
    {
      "cell_type": "code",
      "source": [
        "age = 20\n",
        "is_student = True\n",
        "\n",
        "if age >= 18:\n",
        "    if is_student:\n",
        "        print(\"You are an adult student\")\n",
        "    else:\n",
        "        print(\"You are an adult non-student\")\n",
        "else:\n",
        "    print(\"You are a child\")\n"
      ],
      "metadata": {
        "colab": {
          "base_uri": "https://localhost:8080/"
        },
        "id": "n9-HViFnQJ8G",
        "outputId": "aa416242-d009-4ad1-bebb-2d0ac5335d39"
      },
      "execution_count": 2,
      "outputs": [
        {
          "output_type": "stream",
          "name": "stdout",
          "text": [
            "You are an adult student\n"
          ]
        }
      ]
    },
    {
      "cell_type": "markdown",
      "source": [
        "## 9- Control Structures : Loops\n",
        "repeating a block of code multiple times\n",
        "\n",
        "for variable in iterable:\n",
        "    \n",
        "    Code to execute for each item in the iterable\n",
        "\n",
        "  - variable is a variable that takes on the value of each item in the iterable during each iteration.\n",
        "  - iterable is a sequence of items (e.g., a list, string, or range) over which the loop iterates."
      ],
      "metadata": {
        "id": "mfjXuFzkQgBB"
      }
    },
    {
      "cell_type": "code",
      "source": [
        "# for loop iterates over the fruits list and prints each fruit.\n",
        "\n",
        "fruits = [\"apple\", \"banana\", \"cherry\"]\n",
        "for fruit in fruits:\n",
        "    print(fruit)"
      ],
      "metadata": {
        "colab": {
          "base_uri": "https://localhost:8080/"
        },
        "id": "a-YZW36jQl3y",
        "outputId": "84405a4d-a765-48c5-f64c-bf399dc9dcd9"
      },
      "execution_count": 5,
      "outputs": [
        {
          "output_type": "stream",
          "name": "stdout",
          "text": [
            "apple\n",
            "banana\n",
            "cherry\n"
          ]
        }
      ]
    },
    {
      "cell_type": "markdown",
      "source": [
        "- range"
      ],
      "metadata": {
        "id": "ZRmkRjIIRrZU"
      }
    },
    {
      "cell_type": "code",
      "source": [
        "# loop uses the range function to generate numbers from 0 to 4, and it prints each number.\n",
        "for i in range(5):\n",
        "    print(i)\n",
        "\n"
      ],
      "metadata": {
        "colab": {
          "base_uri": "https://localhost:8080/"
        },
        "id": "ZX_22pqJQnxA",
        "outputId": "1e813b94-8fac-4ea3-e201-00d7caf0825d"
      },
      "execution_count": 6,
      "outputs": [
        {
          "output_type": "stream",
          "name": "stdout",
          "text": [
            "0\n",
            "1\n",
            "2\n",
            "3\n",
            "4\n"
          ]
        }
      ]
    },
    {
      "cell_type": "markdown",
      "source": [
        "- while"
      ],
      "metadata": {
        "id": "lDSEBkmARpTt"
      }
    },
    {
      "cell_type": "code",
      "source": [
        "# while loop repeats a block of code as long as a specified condition is True\n",
        "\n",
        "count = 0\n",
        "while count < 5:\n",
        "    print(count)\n",
        "    count += 1     # increment value of count by 1 each iteration in loop\n"
      ],
      "metadata": {
        "colab": {
          "base_uri": "https://localhost:8080/"
        },
        "id": "l_FXwwnpRPGb",
        "outputId": "502a6173-0269-4992-9155-d9dac9211043"
      },
      "execution_count": 7,
      "outputs": [
        {
          "output_type": "stream",
          "name": "stdout",
          "text": [
            "0\n",
            "1\n",
            "2\n",
            "3\n",
            "4\n"
          ]
        }
      ]
    },
    {
      "cell_type": "markdown",
      "source": [
        "- break"
      ],
      "metadata": {
        "id": "kVPMwvBYRvSf"
      }
    },
    {
      "cell_type": "code",
      "source": [
        "# break statement is used to exit a loop prematurely, regardless of whether the loop's condition is satisfied.\n",
        "\n",
        "for number in range(10):\n",
        "    if number == 5:\n",
        "        break\n",
        "    print(number)\n",
        "\n",
        "#   loop prints numbers from 0 to 4 and then exits when number becomes 5\n"
      ],
      "metadata": {
        "colab": {
          "base_uri": "https://localhost:8080/"
        },
        "id": "IqJ0HUsvRX9g",
        "outputId": "902d6144-6902-4913-a912-abe16c7ef73f"
      },
      "execution_count": 8,
      "outputs": [
        {
          "output_type": "stream",
          "name": "stdout",
          "text": [
            "0\n",
            "1\n",
            "2\n",
            "3\n",
            "4\n"
          ]
        }
      ]
    },
    {
      "cell_type": "markdown",
      "source": [
        "- continue"
      ],
      "metadata": {
        "id": "d7jH17WuRxUd"
      }
    },
    {
      "cell_type": "code",
      "source": [
        "# continue statement is used to skip the rest of the current iteration and move to the next iteration of the loop\n",
        "\n",
        "for number in range(6):\n",
        "    if number == 3:\n",
        "        continue\n",
        "    print(number)\n",
        "\n",
        "# This loop prints numbers from 0 to 5 but skips printing 3."
      ],
      "metadata": {
        "colab": {
          "base_uri": "https://localhost:8080/"
        },
        "id": "HxguiPSIRmXL",
        "outputId": "965dead9-7c85-45e9-9ad8-fbabe51ebf0e"
      },
      "execution_count": 10,
      "outputs": [
        {
          "output_type": "stream",
          "name": "stdout",
          "text": [
            "0\n",
            "1\n",
            "2\n",
            "4\n",
            "5\n"
          ]
        }
      ]
    },
    {
      "cell_type": "markdown",
      "source": [
        "#### Nested Loop\n",
        "- loops inside other loops, creating nested loops. This is useful for handling complex scenarios where you need to iterate over multiple sequences or grids."
      ],
      "metadata": {
        "id": "lCnz5JfdR_B8"
      }
    },
    {
      "cell_type": "code",
      "source": [
        "for i in range(3):\n",
        "    for j in range(2):\n",
        "        print(f\"({i}, {j})\")\n"
      ],
      "metadata": {
        "colab": {
          "base_uri": "https://localhost:8080/"
        },
        "id": "LsnIsUBbR00I",
        "outputId": "425db8b4-f386-4683-b546-0d95f7687c4a"
      },
      "execution_count": 11,
      "outputs": [
        {
          "output_type": "stream",
          "name": "stdout",
          "text": [
            "(0, 0)\n",
            "(0, 1)\n",
            "(1, 0)\n",
            "(1, 1)\n",
            "(2, 0)\n",
            "(2, 1)\n"
          ]
        }
      ]
    },
    {
      "cell_type": "markdown",
      "source": [
        "## 10- Function\n",
        "- Functions  are blocks of reusable code that perform specific tasks or operations. They allow you to organize and modularize your code, making it more readable, maintainable, and efficient\n",
        "- functions are defined using the def keyword, followed by the function name, parameters, and a code block\n",
        "\n",
        "\n",
        "\n",
        "\n",
        "```\n",
        "def function_name(parameter1, parameter2, ...):\n",
        "    # Code to perform a specific task\n",
        "    return result\n",
        "\n",
        "```\n",
        "\n",
        "    - function_name: The name of the function.\n",
        "    - parameters: Input values or arguments that the function accepts.\n",
        "    - code block: The sequence of statements that define what the function does.\n",
        "    - return: An optional statement used to specify the value that the function should return when it's called.\n",
        "\n"
      ],
      "metadata": {
        "id": "BQTjcMFtSMrZ"
      }
    },
    {
      "cell_type": "code",
      "source": [
        "def greet(person):\n",
        "    return \"Hello, \" + person\n",
        "\n",
        "message = greet(\"Bob\")\n",
        "print(message)"
      ],
      "metadata": {
        "colab": {
          "base_uri": "https://localhost:8080/"
        },
        "id": "_gbEVBfKSCPY",
        "outputId": "45639c4a-dcfc-4519-ae54-9358c074c7c7"
      },
      "execution_count": 13,
      "outputs": [
        {
          "output_type": "stream",
          "name": "stdout",
          "text": [
            "Hello, Bob\n"
          ]
        }
      ]
    },
    {
      "cell_type": "code",
      "source": [
        "def add_numbers(a, b):\n",
        "    result = a + b\n",
        "    return result\n",
        "\n",
        "sum_result = add_numbers(3, 5)\n",
        "print(sum_result)\n"
      ],
      "metadata": {
        "colab": {
          "base_uri": "https://localhost:8080/"
        },
        "id": "hCq4nBjgU1Hj",
        "outputId": "84893d41-3828-4460-b857-9f0cd23e13d6"
      },
      "execution_count": 21,
      "outputs": [
        {
          "output_type": "stream",
          "name": "stdout",
          "text": [
            "8\n"
          ]
        }
      ]
    },
    {
      "cell_type": "markdown",
      "source": [
        "#### Function with Default Parameters"
      ],
      "metadata": {
        "id": "_tBQipa2U5bX"
      }
    },
    {
      "cell_type": "code",
      "source": [
        "def greet(name, greeting=\"Hello\"):\n",
        "    message = f\"{greeting}, {name}!\"\n",
        "    return message\n",
        "\n",
        "print(greet(\"Alice\"))  # Output: \"Hello, Alice!\"\n",
        "print(greet(\"Bob\", \"Hi\"))  # Output: \"Hi, Bob!\"\n"
      ],
      "metadata": {
        "colab": {
          "base_uri": "https://localhost:8080/"
        },
        "id": "xW1CsfbAU7_2",
        "outputId": "de177c17-bd46-4285-9934-63e48258483d"
      },
      "execution_count": 22,
      "outputs": [
        {
          "output_type": "stream",
          "name": "stdout",
          "text": [
            "Hello, Alice!\n",
            "Hi, Bob!\n"
          ]
        }
      ]
    },
    {
      "cell_type": "markdown",
      "source": [
        "#### Function with Multiple Return Values"
      ],
      "metadata": {
        "id": "KUYxCqnVVA8-"
      }
    },
    {
      "cell_type": "code",
      "source": [
        "def get_name_and_age():\n",
        "    name = \"Alice\"\n",
        "    age = 30\n",
        "    return name, age\n",
        "\n",
        "result = get_name_and_age()\n",
        "print(result)  # Output: (\"Alice\", 30)\n",
        "name, age = get_name_and_age()\n",
        "print(name, age)  # Output: \"Alice 30\"\n",
        "\n",
        "# get_name_and_age function returns two values, which can be unpacked into separate variables when calling the function.\n"
      ],
      "metadata": {
        "colab": {
          "base_uri": "https://localhost:8080/"
        },
        "id": "BegZLAv_U8CQ",
        "outputId": "7da8e69e-4913-40ad-d034-7394a3aa860f"
      },
      "execution_count": 24,
      "outputs": [
        {
          "output_type": "stream",
          "name": "stdout",
          "text": [
            "('Alice', 30)\n",
            "Alice 30\n"
          ]
        }
      ]
    },
    {
      "cell_type": "markdown",
      "source": [
        "## 11- File Operations"
      ],
      "metadata": {
        "id": "27pGvUCQSe84"
      }
    },
    {
      "cell_type": "markdown",
      "source": [
        "* Read from file\n",
        "\n",
        "read the content of the file\n",
        "\n",
        "\n",
        "\n"
      ],
      "metadata": {
        "id": "YaQPYj6WSrLp"
      }
    },
    {
      "cell_type": "code",
      "source": [
        "# File Operations\n",
        "file = open(\"example.txt\", \"r\")  # Open file for reading\n",
        "content = file.read()            # Read the entire file\n",
        "file.close()\n",
        "print(content)"
      ],
      "metadata": {
        "colab": {
          "base_uri": "https://localhost:8080/"
        },
        "id": "6Xy6KEwvSVlb",
        "outputId": "32fdb0c9-4817-4c65-93b3-6f70f0d3d2fb"
      },
      "execution_count": 15,
      "outputs": [
        {
          "output_type": "stream",
          "name": "stdout",
          "text": [
            "Line 1\n",
            "Line 2\n",
            "Line 3\n"
          ]
        }
      ]
    },
    {
      "cell_type": "markdown",
      "source": [
        "* write to file\n",
        "To write to a text file, you can use the open() function\n",
        "   - to open the file in write mode ('w')  \"replace any text in file : delete old text and write the given text\"\n",
        "   - or append mode ('a'). \"append after the old text\""
      ],
      "metadata": {
        "id": "ZIbPlbDhSs6q"
      }
    },
    {
      "cell_type": "code",
      "source": [
        "# Open the file in write mode\n",
        "with open(\"output.txt\", \"w\") as file:\n",
        "    file.write(\"Hello, World!\\n\")\n",
        "    file.write(\"This is a second line.\\n\")\n",
        "    file.close()\n"
      ],
      "metadata": {
        "id": "ThBkD_BkSvHp"
      },
      "execution_count": 18,
      "outputs": []
    },
    {
      "cell_type": "code",
      "source": [
        "# want to add content to an existing file without overwriting its contents, you can open the file in append mode ('a')\n",
        "with open(\"output.txt\", \"a\") as file:\n",
        "    file.write(\"append another line\")\n"
      ],
      "metadata": {
        "id": "TMcWEJyGSk8M"
      },
      "execution_count": 20,
      "outputs": []
    },
    {
      "cell_type": "code",
      "source": [],
      "metadata": {
        "id": "nv4m80qtUBss"
      },
      "execution_count": null,
      "outputs": []
    }
  ]
}